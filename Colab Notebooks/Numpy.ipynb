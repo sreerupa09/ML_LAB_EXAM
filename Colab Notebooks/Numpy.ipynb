{
  "nbformat": 4,
  "nbformat_minor": 0,
  "metadata": {
    "colab": {
      "provenance": []
    },
    "kernelspec": {
      "name": "python3",
      "display_name": "Python 3"
    },
    "language_info": {
      "name": "python"
    }
  },
  "cells": [
    {
      "cell_type": "code",
      "execution_count": null,
      "metadata": {
        "id": "-0jYDqpnJudD"
      },
      "outputs": [],
      "source": [
        "import numpy as np"
      ]
    },
    {
      "cell_type": "code",
      "source": [
        "arr1=np.empty((2,3))\n",
        "arr2=np.array([[10,2,3],[23,45,67]])"
      ],
      "metadata": {
        "id": "PbITNA7FPq5y"
      },
      "execution_count": null,
      "outputs": []
    },
    {
      "cell_type": "code",
      "source": [
        "print(arr2)"
      ],
      "metadata": {
        "colab": {
          "base_uri": "https://localhost:8080/"
        },
        "id": "A2m8WDw4QPSI",
        "outputId": "f848b6d7-3129-4083-bcf9-62a5f0a2dd87"
      },
      "execution_count": null,
      "outputs": [
        {
          "output_type": "stream",
          "name": "stdout",
          "text": [
            "[[10  2  3]\n",
            " [23 45 67]]\n"
          ]
        }
      ]
    },
    {
      "cell_type": "code",
      "source": [
        "arr3=np.ones((2,3))\n",
        "print(arr3)"
      ],
      "metadata": {
        "colab": {
          "base_uri": "https://localhost:8080/"
        },
        "id": "za0I-6xwQRyI",
        "outputId": "a820a31f-05d3-44cb-ac06-4ad023d873b3"
      },
      "execution_count": null,
      "outputs": [
        {
          "output_type": "stream",
          "name": "stdout",
          "text": [
            "[[1. 1. 1.]\n",
            " [1. 1. 1.]]\n"
          ]
        }
      ]
    },
    {
      "cell_type": "code",
      "source": [
        "arr4=np.zeros((2,3),dtype=int)\n",
        "print(arr4)"
      ],
      "metadata": {
        "colab": {
          "base_uri": "https://localhost:8080/"
        },
        "id": "MZ15TDMjQZ5f",
        "outputId": "502e6d69-edc0-4c58-ed3a-db49deb3ced9"
      },
      "execution_count": null,
      "outputs": [
        {
          "output_type": "stream",
          "name": "stdout",
          "text": [
            "[[0 0 0]\n",
            " [0 0 0]]\n"
          ]
        }
      ]
    },
    {
      "cell_type": "code",
      "source": [
        "np.random.random((2,2))"
      ],
      "metadata": {
        "colab": {
          "base_uri": "https://localhost:8080/"
        },
        "id": "AYh0ZZVXQo0f",
        "outputId": "efe71e20-201f-46a5-eb10-21235f6cca18"
      },
      "execution_count": null,
      "outputs": [
        {
          "output_type": "execute_result",
          "data": {
            "text/plain": [
              "array([[0.49258584, 0.4444419 ],\n",
              "       [0.26251619, 0.1238045 ]])"
            ]
          },
          "metadata": {},
          "execution_count": 6
        }
      ]
    },
    {
      "cell_type": "code",
      "source": [
        "var2=np.empty(4)\n",
        "var2[0]=5.67\n",
        "var2[1]=2\n",
        "var2[2]=56\n",
        "var2[2]=304\n",
        "print(var2)"
      ],
      "metadata": {
        "colab": {
          "base_uri": "https://localhost:8080/"
        },
        "id": "BsnIakr8Qtv3",
        "outputId": "c784644a-5fb4-49e5-d7cd-74f56960b1f6"
      },
      "execution_count": null,
      "outputs": [
        {
          "output_type": "stream",
          "name": "stdout",
          "text": [
            "[5.67000000e+00 2.00000000e+00 3.04000000e+02 1.23804495e-01]\n"
          ]
        }
      ]
    },
    {
      "cell_type": "code",
      "source": [
        "print(var2.shape)"
      ],
      "metadata": {
        "colab": {
          "base_uri": "https://localhost:8080/"
        },
        "id": "9TIlIJdpQ9t3",
        "outputId": "ed14164f-6072-4355-a1fa-4a8084977e23"
      },
      "execution_count": null,
      "outputs": [
        {
          "output_type": "stream",
          "name": "stdout",
          "text": [
            "(4,)\n"
          ]
        }
      ]
    },
    {
      "cell_type": "code",
      "source": [
        "print(var2.size)"
      ],
      "metadata": {
        "colab": {
          "base_uri": "https://localhost:8080/"
        },
        "id": "CPBFAZi-RAhW",
        "outputId": "ab6876fb-e793-4c72-eb2a-19397b21350a"
      },
      "execution_count": null,
      "outputs": [
        {
          "output_type": "stream",
          "name": "stdout",
          "text": [
            "4\n"
          ]
        }
      ]
    },
    {
      "cell_type": "code",
      "source": [
        "var3=np.empty((2,3))\n",
        "var3[0][0]=5.67\n",
        "var3[0][1]=2\n",
        "var3[0][2]=56\n",
        "var3[1][0]=0.09\n",
        "var3[1][1]=132\n",
        "var3[1][2]=1056\n",
        "print(var3)\n"
      ],
      "metadata": {
        "colab": {
          "base_uri": "https://localhost:8080/"
        },
        "id": "XmsUY72RRD8G",
        "outputId": "455aa270-c7e7-483c-e83e-ec976e24d357"
      },
      "execution_count": null,
      "outputs": [
        {
          "output_type": "stream",
          "name": "stdout",
          "text": [
            "[[5.670e+00 2.000e+00 5.600e+01]\n",
            " [9.000e-02 1.320e+02 1.056e+03]]\n"
          ]
        }
      ]
    },
    {
      "cell_type": "code",
      "source": [
        "print(var3.shape)"
      ],
      "metadata": {
        "colab": {
          "base_uri": "https://localhost:8080/"
        },
        "id": "EnrrnWoVRwtj",
        "outputId": "93ecefe7-21dd-42cb-cadf-8e48c4518e3a"
      },
      "execution_count": null,
      "outputs": [
        {
          "output_type": "stream",
          "name": "stdout",
          "text": [
            "(2, 3)\n"
          ]
        }
      ]
    },
    {
      "cell_type": "code",
      "source": [
        "var3=np.empty((2,3),dtype=int)\n",
        "var3[0][0]=5.67\n",
        "var3[0][1]=2\n",
        "var3[0][2]=56\n",
        "var3[1][0]=0.09\n",
        "var3[1][1]=132\n",
        "var3[1][2]=1056\n",
        "print(var3)\n"
      ],
      "metadata": {
        "colab": {
          "base_uri": "https://localhost:8080/"
        },
        "id": "DAbyht6HR3BK",
        "outputId": "ecfb202e-1b8b-4e81-d0a6-0bf1ad787e8f"
      },
      "execution_count": null,
      "outputs": [
        {
          "output_type": "stream",
          "name": "stdout",
          "text": [
            "[[   5    2   56]\n",
            " [   0  132 1056]]\n"
          ]
        }
      ]
    },
    {
      "cell_type": "code",
      "source": [
        "print(var3[1])"
      ],
      "metadata": {
        "colab": {
          "base_uri": "https://localhost:8080/"
        },
        "id": "lQ8s_zDqSFD-",
        "outputId": "746077cd-5207-49af-b3e3-6e25511604a5"
      },
      "execution_count": null,
      "outputs": [
        {
          "output_type": "stream",
          "name": "stdout",
          "text": [
            "[   0  132 1056]\n"
          ]
        }
      ]
    },
    {
      "cell_type": "code",
      "source": [
        "print(var3[[0,1]])"
      ],
      "metadata": {
        "colab": {
          "base_uri": "https://localhost:8080/"
        },
        "id": "EygNV-MoSKCO",
        "outputId": "b61f1947-e539-4c65-ab47-6727fbdb5173"
      },
      "execution_count": null,
      "outputs": [
        {
          "output_type": "stream",
          "name": "stdout",
          "text": [
            "[[   5    2   56]\n",
            " [   0  132 1056]]\n"
          ]
        }
      ]
    },
    {
      "cell_type": "code",
      "source": [
        "print(var3[:,2])"
      ],
      "metadata": {
        "colab": {
          "base_uri": "https://localhost:8080/"
        },
        "id": "BjTlVTaqSa_O",
        "outputId": "7a70a784-02b2-47b4-9bde-39cb98efa799"
      },
      "execution_count": null,
      "outputs": [
        {
          "output_type": "stream",
          "name": "stdout",
          "text": [
            "[  56 1056]\n"
          ]
        }
      ]
    },
    {
      "cell_type": "code",
      "source": [
        "print(var3[:,[1,2]])"
      ],
      "metadata": {
        "colab": {
          "base_uri": "https://localhost:8080/"
        },
        "id": "zB-xiZpUSfE2",
        "outputId": "fb460422-5ed4-4fef-bc5e-afaf5d5a6d1e"
      },
      "execution_count": null,
      "outputs": [
        {
          "output_type": "stream",
          "name": "stdout",
          "text": [
            "[[   2   56]\n",
            " [ 132 1056]]\n"
          ]
        }
      ]
    },
    {
      "cell_type": "code",
      "source": [
        "print(var3[1][2])"
      ],
      "metadata": {
        "colab": {
          "base_uri": "https://localhost:8080/"
        },
        "id": "hD-o1gPJSjkG",
        "outputId": "def87d5b-a973-4999-ddf9-63d3752be7f3"
      },
      "execution_count": null,
      "outputs": [
        {
          "output_type": "stream",
          "name": "stdout",
          "text": [
            "1056\n"
          ]
        }
      ]
    },
    {
      "cell_type": "code",
      "source": [
        "print(var3[1,2])"
      ],
      "metadata": {
        "colab": {
          "base_uri": "https://localhost:8080/"
        },
        "id": "TdoeB2lqSpau",
        "outputId": "c0e3f624-0d3a-4e7f-e9cc-acacfc41f118"
      },
      "execution_count": null,
      "outputs": [
        {
          "output_type": "stream",
          "name": "stdout",
          "text": [
            "1056\n"
          ]
        }
      ]
    },
    {
      "cell_type": "code",
      "source": [
        "print(np.transpose(var3))"
      ],
      "metadata": {
        "colab": {
          "base_uri": "https://localhost:8080/"
        },
        "id": "uAO6EpVZSsen",
        "outputId": "698968ad-1372-43b6-c320-1b65cb112904"
      },
      "execution_count": null,
      "outputs": [
        {
          "output_type": "stream",
          "name": "stdout",
          "text": [
            "[[   5    0]\n",
            " [   2  132]\n",
            " [  56 1056]]\n"
          ]
        }
      ]
    },
    {
      "cell_type": "code",
      "source": [
        "print(var3.reshape(3,2))"
      ],
      "metadata": {
        "colab": {
          "base_uri": "https://localhost:8080/"
        },
        "id": "2ERZMz0ISwee",
        "outputId": "a8d4c39a-3281-46cd-f887-64481f138fd5"
      },
      "execution_count": null,
      "outputs": [
        {
          "output_type": "stream",
          "name": "stdout",
          "text": [
            "[[   5    2]\n",
            " [  56    0]\n",
            " [ 132 1056]]\n"
          ]
        }
      ]
    },
    {
      "cell_type": "code",
      "source": [
        "arr1=np.empty((2,3),dtype=int)\n",
        "arr1[0][0]=5.67\n",
        "arr1[0][1]=2\n",
        "arr1[0][2]=56\n",
        "arr1[1][0]=0.09\n",
        "arr1[1][1]=132\n",
        "arr1[1][2]=1056\n",
        "print(arr1)\n"
      ],
      "metadata": {
        "colab": {
          "base_uri": "https://localhost:8080/"
        },
        "outputId": "4b4c826b-7665-4dc1-a50e-1aee74f28c83",
        "id": "N0VmJ9j1TEXF"
      },
      "execution_count": null,
      "outputs": [
        {
          "output_type": "stream",
          "name": "stdout",
          "text": [
            "[[   5    2   56]\n",
            " [   0  132 1056]]\n"
          ]
        }
      ]
    },
    {
      "cell_type": "code",
      "source": [
        "arr2=np.empty((1,3),dtype=int)\n",
        "arr2[0][0]=37\n",
        "arr2[0][1]=2.193\n",
        "arr2[0][2]=5609\n",
        "print(arr2)"
      ],
      "metadata": {
        "colab": {
          "base_uri": "https://localhost:8080/"
        },
        "id": "p99FbH44Tbhc",
        "outputId": "ccdf41b1-2373-40c7-a66b-ae34190e9262"
      },
      "execution_count": null,
      "outputs": [
        {
          "output_type": "stream",
          "name": "stdout",
          "text": [
            "[[  37    2 5609]]\n"
          ]
        }
      ]
    },
    {
      "cell_type": "code",
      "source": [
        "arr_concat=np.concatenate((arr1,arr2),axis=0)\n",
        "print(arr_concat)"
      ],
      "metadata": {
        "colab": {
          "base_uri": "https://localhost:8080/"
        },
        "id": "5E81ba1oTsGa",
        "outputId": "ff94ac12-48bd-4d82-f1f9-39fe41cbbaa4"
      },
      "execution_count": null,
      "outputs": [
        {
          "output_type": "stream",
          "name": "stdout",
          "text": [
            "[[   5    2   56]\n",
            " [   0  132 1056]\n",
            " [  37    2 5609]]\n"
          ]
        }
      ]
    },
    {
      "cell_type": "code",
      "source": [
        "print(arr2.min())"
      ],
      "metadata": {
        "colab": {
          "base_uri": "https://localhost:8080/"
        },
        "id": "CChUuVzXT36d",
        "outputId": "05f58c80-fbaa-4cd1-e1a0-a51959cd07c2"
      },
      "execution_count": null,
      "outputs": [
        {
          "output_type": "stream",
          "name": "stdout",
          "text": [
            "2\n"
          ]
        }
      ]
    },
    {
      "cell_type": "code",
      "source": [
        "arr2.max()"
      ],
      "metadata": {
        "colab": {
          "base_uri": "https://localhost:8080/"
        },
        "id": "M_AraYP5T7S1",
        "outputId": "159654ec-dd1e-46e8-e5ed-c53a4dffe722"
      },
      "execution_count": null,
      "outputs": [
        {
          "output_type": "execute_result",
          "data": {
            "text/plain": [
              "5609"
            ]
          },
          "metadata": {},
          "execution_count": 25
        }
      ]
    },
    {
      "cell_type": "code",
      "source": [
        "arr2.cumsum()"
      ],
      "metadata": {
        "colab": {
          "base_uri": "https://localhost:8080/"
        },
        "id": "WNLoUX70UTPc",
        "outputId": "45f499ed-772a-45af-e6f6-d2bfd0400721"
      },
      "execution_count": null,
      "outputs": [
        {
          "output_type": "execute_result",
          "data": {
            "text/plain": [
              "array([  37,   39, 5648])"
            ]
          },
          "metadata": {},
          "execution_count": 26
        }
      ]
    },
    {
      "cell_type": "code",
      "source": [
        "arr2.mean()"
      ],
      "metadata": {
        "colab": {
          "base_uri": "https://localhost:8080/"
        },
        "id": "EGfZDMicUdZr",
        "outputId": "13c4fbb7-5524-4789-ff9a-c82dad8713aa"
      },
      "execution_count": null,
      "outputs": [
        {
          "output_type": "execute_result",
          "data": {
            "text/plain": [
              "1882.6666666666667"
            ]
          },
          "metadata": {},
          "execution_count": 27
        }
      ]
    },
    {
      "cell_type": "code",
      "source": [
        "arr2.std()"
      ],
      "metadata": {
        "colab": {
          "base_uri": "https://localhost:8080/"
        },
        "id": "6ItBCQjJUgZL",
        "outputId": "14055002-3be4-4dfa-e048-a4faf446894a"
      },
      "execution_count": null,
      "outputs": [
        {
          "output_type": "execute_result",
          "data": {
            "text/plain": [
              "2634.9543112210163"
            ]
          },
          "metadata": {},
          "execution_count": 28
        }
      ]
    },
    {
      "cell_type": "code",
      "source": [
        "from numpy import pi"
      ],
      "metadata": {
        "id": "HlGjeapbUiuj"
      },
      "execution_count": null,
      "outputs": []
    },
    {
      "cell_type": "code",
      "source": [
        "array1=np.array([30,60,90])\n",
        "np.sin(array1*np.pi/180)"
      ],
      "metadata": {
        "colab": {
          "base_uri": "https://localhost:8080/"
        },
        "id": "lpcdqjCaUzHM",
        "outputId": "77d8992b-aeb6-48fd-87d1-ece5dda16635"
      },
      "execution_count": null,
      "outputs": [
        {
          "output_type": "execute_result",
          "data": {
            "text/plain": [
              "array([0.5      , 0.8660254, 1.       ])"
            ]
          },
          "metadata": {},
          "execution_count": 30
        }
      ]
    },
    {
      "cell_type": "code",
      "source": [
        "arr2=np.array([67.07,88.10,34,231.67,0.934])\n",
        "print(arr2)"
      ],
      "metadata": {
        "colab": {
          "base_uri": "https://localhost:8080/"
        },
        "id": "hf5lYEf8VAns",
        "outputId": "d40f931a-bd0a-493c-f711-72874513391f"
      },
      "execution_count": null,
      "outputs": [
        {
          "output_type": "stream",
          "name": "stdout",
          "text": [
            "[ 67.07   88.1    34.    231.67    0.934]\n"
          ]
        }
      ]
    },
    {
      "cell_type": "code",
      "source": [
        "np.around(arr2)"
      ],
      "metadata": {
        "colab": {
          "base_uri": "https://localhost:8080/"
        },
        "id": "S3fllra0VXiU",
        "outputId": "607fbcf9-c60f-45ae-c101-05f9dd0bbf49"
      },
      "execution_count": null,
      "outputs": [
        {
          "output_type": "execute_result",
          "data": {
            "text/plain": [
              "array([ 67.,  88.,  34., 232.,   1.])"
            ]
          },
          "metadata": {},
          "execution_count": 32
        }
      ]
    },
    {
      "cell_type": "code",
      "source": [
        "np.around(arr2,decimals=2)"
      ],
      "metadata": {
        "colab": {
          "base_uri": "https://localhost:8080/"
        },
        "id": "LEz0_6TWVZes",
        "outputId": "91b5204f-f793-4f20-f791-dc1f495ba364"
      },
      "execution_count": null,
      "outputs": [
        {
          "output_type": "execute_result",
          "data": {
            "text/plain": [
              "array([ 67.07,  88.1 ,  34.  , 231.67,   0.93])"
            ]
          },
          "metadata": {},
          "execution_count": 33
        }
      ]
    },
    {
      "cell_type": "code",
      "source": [
        "np.floor(arr2)"
      ],
      "metadata": {
        "colab": {
          "base_uri": "https://localhost:8080/"
        },
        "id": "yvEm-jYcVeLM",
        "outputId": "91183d06-c62e-45d2-e451-6fe9e4fbfcb8"
      },
      "execution_count": null,
      "outputs": [
        {
          "output_type": "execute_result",
          "data": {
            "text/plain": [
              "array([ 67.,  88.,  34., 231.,   0.])"
            ]
          },
          "metadata": {},
          "execution_count": 34
        }
      ]
    },
    {
      "cell_type": "code",
      "source": [
        "np.ceil(arr2)"
      ],
      "metadata": {
        "colab": {
          "base_uri": "https://localhost:8080/"
        },
        "id": "flvgueQ8Vgs8",
        "outputId": "cc57dc48-2ffc-4f13-e5c2-fa77038834f5"
      },
      "execution_count": null,
      "outputs": [
        {
          "output_type": "execute_result",
          "data": {
            "text/plain": [
              "array([ 68.,  89.,  34., 232.,   1.])"
            ]
          },
          "metadata": {},
          "execution_count": 35
        }
      ]
    },
    {
      "cell_type": "code",
      "source": [
        "arr2=np.arange(6,dtype=int).reshape(2,3)"
      ],
      "metadata": {
        "id": "3zJv4kDOVjcU"
      },
      "execution_count": null,
      "outputs": []
    },
    {
      "cell_type": "code",
      "source": [
        "arr2"
      ],
      "metadata": {
        "colab": {
          "base_uri": "https://localhost:8080/"
        },
        "id": "9S1oaI3-VtZm",
        "outputId": "9dfd139d-f88a-497a-82da-45a7ce5afb25"
      },
      "execution_count": null,
      "outputs": [
        {
          "output_type": "execute_result",
          "data": {
            "text/plain": [
              "array([[0, 1, 2],\n",
              "       [3, 4, 5]])"
            ]
          },
          "metadata": {},
          "execution_count": 37
        }
      ]
    },
    {
      "cell_type": "code",
      "source": [
        "np.add(arr1,arr2)"
      ],
      "metadata": {
        "colab": {
          "base_uri": "https://localhost:8080/"
        },
        "id": "AYTy2SZpVuf2",
        "outputId": "a84c06b4-d5f7-44d0-8d0a-aacdd7559bf7"
      },
      "execution_count": null,
      "outputs": [
        {
          "output_type": "execute_result",
          "data": {
            "text/plain": [
              "array([[   5,    3,   58],\n",
              "       [   3,  136, 1061]])"
            ]
          },
          "metadata": {},
          "execution_count": 38
        }
      ]
    },
    {
      "cell_type": "code",
      "source": [
        "np.subtract(arr1,arr2)"
      ],
      "metadata": {
        "colab": {
          "base_uri": "https://localhost:8080/"
        },
        "id": "_tOjSbqtWEe7",
        "outputId": "50c33b7d-ef4b-4d09-cd04-5e46ee558f42"
      },
      "execution_count": null,
      "outputs": [
        {
          "output_type": "execute_result",
          "data": {
            "text/plain": [
              "array([[   5,    1,   54],\n",
              "       [  -3,  128, 1051]])"
            ]
          },
          "metadata": {},
          "execution_count": 39
        }
      ]
    },
    {
      "cell_type": "code",
      "source": [
        "np.multiply(arr1,arr2)"
      ],
      "metadata": {
        "colab": {
          "base_uri": "https://localhost:8080/"
        },
        "id": "FC5Z4NfLWNdT",
        "outputId": "53aa573a-57cd-4152-8d3b-6fc13e4581f7"
      },
      "execution_count": null,
      "outputs": [
        {
          "output_type": "execute_result",
          "data": {
            "text/plain": [
              "array([[   0,    2,  112],\n",
              "       [   0,  528, 5280]])"
            ]
          },
          "metadata": {},
          "execution_count": 40
        }
      ]
    },
    {
      "cell_type": "code",
      "source": [
        "np.divide(arr2,arr1)"
      ],
      "metadata": {
        "colab": {
          "base_uri": "https://localhost:8080/"
        },
        "id": "vFpFmRMjWShz",
        "outputId": "72234522-d12c-4fe9-a3a3-f76421fe8841"
      },
      "execution_count": null,
      "outputs": [
        {
          "output_type": "stream",
          "name": "stderr",
          "text": [
            "<ipython-input-41-6a0bd0e0205e>:1: RuntimeWarning: divide by zero encountered in divide\n",
            "  np.divide(arr2,arr1)\n"
          ]
        },
        {
          "output_type": "execute_result",
          "data": {
            "text/plain": [
              "array([[0.        , 0.5       , 0.03571429],\n",
              "       [       inf, 0.03030303, 0.00473485]])"
            ]
          },
          "metadata": {},
          "execution_count": 41
        }
      ]
    },
    {
      "cell_type": "code",
      "source": [
        "np.power(arr1,2)"
      ],
      "metadata": {
        "colab": {
          "base_uri": "https://localhost:8080/"
        },
        "id": "xpwIh_i6WXKL",
        "outputId": "9d7325ac-b3a7-4f38-bfc8-8071013ce0e5"
      },
      "execution_count": null,
      "outputs": [
        {
          "output_type": "execute_result",
          "data": {
            "text/plain": [
              "array([[     25,       4,    3136],\n",
              "       [      0,   17424, 1115136]])"
            ]
          },
          "metadata": {},
          "execution_count": 42
        }
      ]
    },
    {
      "cell_type": "code",
      "source": [
        "np.mod(arr2,arr1)"
      ],
      "metadata": {
        "colab": {
          "base_uri": "https://localhost:8080/"
        },
        "id": "odPXbEI0WbEL",
        "outputId": "8bf490e8-5641-4f98-840a-b18117cc6101"
      },
      "execution_count": null,
      "outputs": [
        {
          "output_type": "stream",
          "name": "stderr",
          "text": [
            "<ipython-input-43-acd918db7191>:1: RuntimeWarning: divide by zero encountered in remainder\n",
            "  np.mod(arr2,arr1)\n"
          ]
        },
        {
          "output_type": "execute_result",
          "data": {
            "text/plain": [
              "array([[0, 1, 2],\n",
              "       [0, 4, 5]])"
            ]
          },
          "metadata": {},
          "execution_count": 43
        }
      ]
    },
    {
      "cell_type": "code",
      "source": [
        "np.remainder(arr2,arr1)"
      ],
      "metadata": {
        "colab": {
          "base_uri": "https://localhost:8080/"
        },
        "id": "E0xlk8AKWfLT",
        "outputId": "c7345c30-5803-4570-a76f-302cdfaa3cd0"
      },
      "execution_count": null,
      "outputs": [
        {
          "output_type": "stream",
          "name": "stderr",
          "text": [
            "<ipython-input-44-3e2449219b99>:1: RuntimeWarning: divide by zero encountered in remainder\n",
            "  np.remainder(arr2,arr1)\n"
          ]
        },
        {
          "output_type": "execute_result",
          "data": {
            "text/plain": [
              "array([[0, 1, 2],\n",
              "       [0, 4, 5]])"
            ]
          },
          "metadata": {},
          "execution_count": 44
        }
      ]
    },
    {
      "cell_type": "code",
      "source": [
        "a=np.array([[21,7,14],[19,40,8]])\n",
        "a"
      ],
      "metadata": {
        "id": "SAEm8uKdWlbi",
        "colab": {
          "base_uri": "https://localhost:8080/"
        },
        "outputId": "5c82fa37-7c41-4bbe-fc40-7c0b595fad05"
      },
      "execution_count": null,
      "outputs": [
        {
          "output_type": "execute_result",
          "data": {
            "text/plain": [
              "array([[21,  7, 14],\n",
              "       [19, 40,  8]])"
            ]
          },
          "metadata": {},
          "execution_count": 46
        }
      ]
    },
    {
      "cell_type": "code",
      "source": [
        "np.sort(a)"
      ],
      "metadata": {
        "colab": {
          "base_uri": "https://localhost:8080/"
        },
        "id": "p7rc_zbL7DnF",
        "outputId": "dcd4ea3c-101b-49a2-870f-c5f699c12696"
      },
      "execution_count": null,
      "outputs": [
        {
          "output_type": "execute_result",
          "data": {
            "text/plain": [
              "array([[ 7, 14, 21],\n",
              "       [ 8, 19, 40]])"
            ]
          },
          "metadata": {},
          "execution_count": 47
        }
      ]
    },
    {
      "cell_type": "code",
      "source": [
        "np.sort(a,axis=0)"
      ],
      "metadata": {
        "colab": {
          "base_uri": "https://localhost:8080/"
        },
        "id": "XZwJcc9q7Lt7",
        "outputId": "0ded71ff-864f-49d4-ce7b-1d5b308c48bd"
      },
      "execution_count": null,
      "outputs": [
        {
          "output_type": "execute_result",
          "data": {
            "text/plain": [
              "array([[19,  7,  8],\n",
              "       [21, 40, 14]])"
            ]
          },
          "metadata": {},
          "execution_count": 48
        }
      ]
    },
    {
      "cell_type": "code",
      "source": [
        "np.sort(a,axis=1)"
      ],
      "metadata": {
        "colab": {
          "base_uri": "https://localhost:8080/"
        },
        "id": "xCxYqpjM7PhH",
        "outputId": "3271bdcb-5b4a-43a0-90a8-1e54351e3bb0"
      },
      "execution_count": null,
      "outputs": [
        {
          "output_type": "execute_result",
          "data": {
            "text/plain": [
              "array([[ 7, 14, 21],\n",
              "       [ 8, 19, 40]])"
            ]
          },
          "metadata": {},
          "execution_count": 51
        }
      ]
    },
    {
      "cell_type": "code",
      "source": [
        "np.where(a>13)"
      ],
      "metadata": {
        "colab": {
          "base_uri": "https://localhost:8080/"
        },
        "id": "1IR2D5uT7RsY",
        "outputId": "fe73bb68-1bd2-4e12-fdbe-088b3511556b"
      },
      "execution_count": null,
      "outputs": [
        {
          "output_type": "execute_result",
          "data": {
            "text/plain": [
              "(array([0, 0, 1, 1]), array([0, 2, 0, 1]))"
            ]
          },
          "metadata": {},
          "execution_count": 52
        }
      ]
    },
    {
      "cell_type": "code",
      "source": [
        "print(a[np.where(a>13)])"
      ],
      "metadata": {
        "colab": {
          "base_uri": "https://localhost:8080/"
        },
        "id": "Rtz8utfH7VE2",
        "outputId": "8c5837a8-3ae2-47cf-f9df-b2e018993c12"
      },
      "execution_count": null,
      "outputs": [
        {
          "output_type": "stream",
          "name": "stdout",
          "text": [
            "[21 14 19 40]\n"
          ]
        }
      ]
    },
    {
      "cell_type": "code",
      "source": [
        "np.mean(a)"
      ],
      "metadata": {
        "colab": {
          "base_uri": "https://localhost:8080/"
        },
        "id": "8Xd6DMj27gDo",
        "outputId": "6c612509-d8bc-4586-9c3c-8f3373299ecb"
      },
      "execution_count": null,
      "outputs": [
        {
          "output_type": "execute_result",
          "data": {
            "text/plain": [
              "18.166666666666668"
            ]
          },
          "metadata": {},
          "execution_count": 54
        }
      ]
    },
    {
      "cell_type": "code",
      "source": [
        "np.mean(a,axis=1)"
      ],
      "metadata": {
        "colab": {
          "base_uri": "https://localhost:8080/"
        },
        "id": "Q1JDZb_K7jYj",
        "outputId": "819aab36-1654-4322-9b35-612a6d190fa6"
      },
      "execution_count": null,
      "outputs": [
        {
          "output_type": "execute_result",
          "data": {
            "text/plain": [
              "array([14.        , 22.33333333])"
            ]
          },
          "metadata": {},
          "execution_count": 55
        }
      ]
    },
    {
      "cell_type": "code",
      "source": [
        "np.mean(a,axis=0)"
      ],
      "metadata": {
        "colab": {
          "base_uri": "https://localhost:8080/"
        },
        "id": "arlVkJ-B7mEz",
        "outputId": "49a25d4d-5901-4742-e51e-4b2d9b394925"
      },
      "execution_count": null,
      "outputs": [
        {
          "output_type": "execute_result",
          "data": {
            "text/plain": [
              "array([20. , 23.5, 11. ])"
            ]
          },
          "metadata": {},
          "execution_count": 56
        }
      ]
    },
    {
      "cell_type": "code",
      "source": [
        "np.median(a)"
      ],
      "metadata": {
        "colab": {
          "base_uri": "https://localhost:8080/"
        },
        "id": "eJYS887M7oyb",
        "outputId": "01b9d123-17f4-43e4-db9c-9ca4cb0bd0e9"
      },
      "execution_count": null,
      "outputs": [
        {
          "output_type": "execute_result",
          "data": {
            "text/plain": [
              "16.5"
            ]
          },
          "metadata": {},
          "execution_count": 58
        }
      ]
    },
    {
      "cell_type": "code",
      "source": [
        "np.median(a,axis=1)"
      ],
      "metadata": {
        "colab": {
          "base_uri": "https://localhost:8080/"
        },
        "id": "KZHalcEe7q_7",
        "outputId": "398deba8-1734-486b-d727-99009426cb3e"
      },
      "execution_count": null,
      "outputs": [
        {
          "output_type": "execute_result",
          "data": {
            "text/plain": [
              "array([14., 19.])"
            ]
          },
          "metadata": {},
          "execution_count": 60
        }
      ]
    },
    {
      "cell_type": "code",
      "source": [
        "np.median(a,axis=0)"
      ],
      "metadata": {
        "colab": {
          "base_uri": "https://localhost:8080/"
        },
        "id": "qaocOaAE7vj7",
        "outputId": "3b3dd336-c935-42c7-d9f6-16c2824c372f"
      },
      "execution_count": null,
      "outputs": [
        {
          "output_type": "execute_result",
          "data": {
            "text/plain": [
              "array([20. , 23.5, 11. ])"
            ]
          },
          "metadata": {},
          "execution_count": 61
        }
      ]
    },
    {
      "cell_type": "code",
      "source": [
        "np.std(a)"
      ],
      "metadata": {
        "colab": {
          "base_uri": "https://localhost:8080/"
        },
        "id": "es4D1fxa7zSD",
        "outputId": "9680b88d-90f0-4e54-88cd-e757301b6e82"
      },
      "execution_count": null,
      "outputs": [
        {
          "output_type": "execute_result",
          "data": {
            "text/plain": [
              "11.036555420762202"
            ]
          },
          "metadata": {},
          "execution_count": 62
        }
      ]
    },
    {
      "cell_type": "code",
      "source": [
        "np.var(a)"
      ],
      "metadata": {
        "colab": {
          "base_uri": "https://localhost:8080/"
        },
        "id": "1v6Knfio71MD",
        "outputId": "d224218d-ecac-4054-fe7c-f1e0a5cc7474"
      },
      "execution_count": null,
      "outputs": [
        {
          "output_type": "execute_result",
          "data": {
            "text/plain": [
              "121.80555555555554"
            ]
          },
          "metadata": {},
          "execution_count": 63
        }
      ]
    }
  ]
}