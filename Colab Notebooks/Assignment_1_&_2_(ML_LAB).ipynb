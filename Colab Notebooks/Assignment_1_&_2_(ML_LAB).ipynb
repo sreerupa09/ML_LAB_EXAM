{
  "nbformat": 4,
  "nbformat_minor": 0,
  "metadata": {
    "colab": {
      "provenance": []
    },
    "kernelspec": {
      "name": "python3",
      "display_name": "Python 3"
    },
    "language_info": {
      "name": "python"
    }
  },
  "cells": [
    {
      "cell_type": "markdown",
      "source": [
        "**1.Reverse a Given Number <br>\n",
        "Take the value of the integer and store in a variable, using a while loop, get each digit of the number and store the reversed number in another variable and print the reverse of the number.**"
      ],
      "metadata": {
        "id": "Uh5Ph_JdrdAA"
      }
    },
    {
      "cell_type": "code",
      "execution_count": null,
      "metadata": {
        "colab": {
          "base_uri": "https://localhost:8080/"
        },
        "id": "xJKJtlADYLVl",
        "outputId": "39bf3637-517a-468a-c7ef-db89bbedfaea"
      },
      "outputs": [
        {
          "output_type": "stream",
          "name": "stdout",
          "text": [
            "Enter value: 523\n",
            "Reverse of 523 is 325\n"
          ]
        }
      ],
      "source": [
        "a=int(input('Enter value: '))\n",
        "s=0\n",
        "m=a\n",
        "while a>0:\n",
        "  s=int(s*10+(a%10))\n",
        "  a=int(a/10)\n",
        "print(\"Reverse of\",m,\"is\",s)"
      ]
    },
    {
      "cell_type": "markdown",
      "source": [
        "**2.Print largest permutation number of a given number**"
      ],
      "metadata": {
        "id": "tbmcASC9rQrw"
      }
    },
    {
      "cell_type": "code",
      "source": [
        "def largest_permutation(number):\n",
        "    digits=[]\n",
        "    n=number\n",
        "    while n>0:\n",
        "        digit=n%10\n",
        "        digits=[digit]+digits\n",
        "        n//= 10\n",
        "    for i in range(len(digits)):\n",
        "        for j in range(len(digits)-1):\n",
        "            if digits[j]<digits[j+1]:\n",
        "                digits[j],digits[j+1]=digits[j+1],digits[j]\n",
        "    largest_number = 0\n",
        "    for digit in digits:\n",
        "        largest_number=largest_number* 10+digit\n",
        "    return largest_number\n",
        "number=int(input('Enter value: '))\n",
        "print(\"Largest permutation of\", number, \"is:\", largest_permutation(number))"
      ],
      "metadata": {
        "colab": {
          "base_uri": "https://localhost:8080/"
        },
        "id": "ZLTx-ZDwYmnr",
        "outputId": "0cc8e4a7-8da5-4b11-e617-4999552eb658"
      },
      "execution_count": null,
      "outputs": [
        {
          "output_type": "stream",
          "name": "stdout",
          "text": [
            "Enter value: 324\n",
            "Largest permutation of 324 is: 432\n"
          ]
        }
      ]
    },
    {
      "cell_type": "markdown",
      "source": [
        "**3.Find the number of ones in the binary representation of a number**"
      ],
      "metadata": {
        "id": "fjJwUaUIrrvW"
      }
    },
    {
      "cell_type": "code",
      "source": [
        "a=int(input('Enter value: '))\n",
        "s=0\n",
        "c=0\n",
        "while a>0:\n",
        "  r=int(a%2)\n",
        "  if r==1:\n",
        "    c=c+1\n",
        "  a=int(a/2)\n",
        "print(c)"
      ],
      "metadata": {
        "colab": {
          "base_uri": "https://localhost:8080/"
        },
        "id": "A6wvVfC3ZzNZ",
        "outputId": "f2aed394-bac8-44d4-c518-1bc460b6df8d"
      },
      "execution_count": null,
      "outputs": [
        {
          "output_type": "stream",
          "name": "stdout",
          "text": [
            "Enter value: 3\n",
            "2\n"
          ]
        }
      ]
    },
    {
      "cell_type": "markdown",
      "source": [
        "**4.Write a program to print following patterns <br> a)**"
      ],
      "metadata": {
        "id": "k0Ne21_Nr2tm"
      }
    },
    {
      "cell_type": "code",
      "source": [
        "rows=int(input('Enter range: '))\n",
        "for i in range(1,rows+1):\n",
        "  for _ in range(rows-i):\n",
        "    print(\" \", end=\"\")\n",
        "  for _ in range(i):\n",
        "    print(\"*\", end=\"\")\n",
        "  print()"
      ],
      "metadata": {
        "colab": {
          "base_uri": "https://localhost:8080/"
        },
        "id": "girVRp-baUX_",
        "outputId": "62f99750-973e-4b4c-e59e-3a54fdbb5347"
      },
      "execution_count": null,
      "outputs": [
        {
          "output_type": "stream",
          "name": "stdout",
          "text": [
            "Enter range: 5\n",
            "    *\n",
            "   **\n",
            "  ***\n",
            " ****\n",
            "*****\n"
          ]
        }
      ]
    },
    {
      "cell_type": "markdown",
      "source": [
        "**4. b)**"
      ],
      "metadata": {
        "id": "I-OpAJ-cr7L_"
      }
    },
    {
      "cell_type": "code",
      "source": [
        "rows=int(input('Enter range: '))\n",
        "for i in range(1,rows+1):\n",
        "  for _ in range(rows-i):\n",
        "    print(\" \", end=\"\")\n",
        "  for _ in range(i):\n",
        "    print(\"* \", end=\"\")\n",
        "  print()"
      ],
      "metadata": {
        "colab": {
          "base_uri": "https://localhost:8080/"
        },
        "id": "iYgO-ddZbNab",
        "outputId": "21bf73af-5566-47df-ec4a-7d92015d13e5"
      },
      "execution_count": null,
      "outputs": [
        {
          "output_type": "stream",
          "name": "stdout",
          "text": [
            "Enter range: 5\n",
            "    * \n",
            "   * * \n",
            "  * * * \n",
            " * * * * \n",
            "* * * * * \n"
          ]
        }
      ]
    },
    {
      "cell_type": "markdown",
      "source": [
        "**4. c)**"
      ],
      "metadata": {
        "id": "pr1OEoAPr9Ea"
      }
    },
    {
      "cell_type": "code",
      "source": [
        "rows=int(input('Enter range: '))\n",
        "for i in range(1,rows+1):\n",
        "  for _ in range(i):\n",
        "    print(chr(64+i), end=\"\")\n",
        "  print()"
      ],
      "metadata": {
        "colab": {
          "base_uri": "https://localhost:8080/"
        },
        "id": "iHYrJp46bktj",
        "outputId": "548858df-87b3-4db2-a5d3-d96a73170b9e"
      },
      "execution_count": null,
      "outputs": [
        {
          "output_type": "stream",
          "name": "stdout",
          "text": [
            "Enter range: 5\n",
            "A\n",
            "BB\n",
            "CCC\n",
            "DDDD\n",
            "EEEEE\n"
          ]
        }
      ]
    },
    {
      "cell_type": "markdown",
      "source": [
        "**5.Check if two numbers are amicable numbers**"
      ],
      "metadata": {
        "id": "4uDir98Pr_9v"
      }
    },
    {
      "cell_type": "code",
      "source": [
        "def d_sum(n):\n",
        "    divisors_sum = 0\n",
        "    for i in range(1,n):\n",
        "        if n%i==0:\n",
        "            divisors_sum+=i\n",
        "    return divisors_sum\n",
        "def amicable(num1, num2):\n",
        "    sum1=d_sum(num1)\n",
        "    sum2=d_sum(num2)\n",
        "    return sum1==num2 and sum2==num1\n",
        "a=int(input(\"Enter the first number: \"))\n",
        "b=int(input(\"Enter the second number: \"))\n",
        "if amicable(a, b):\n",
        "    print(\"The numbers\", a, \"and\", b, \"are amicable.\")\n",
        "else:\n",
        "    print(\"The numbers\", a, \"and\", b, \"are not amicable.\")"
      ],
      "metadata": {
        "colab": {
          "base_uri": "https://localhost:8080/"
        },
        "id": "5LpSwCPiibvD",
        "outputId": "3725d06c-30e0-41a8-cf9b-63c01bd3b518"
      },
      "execution_count": null,
      "outputs": [
        {
          "output_type": "stream",
          "name": "stdout",
          "text": [
            "Enter the first number: 220\n",
            "Enter the second number: 284\n",
            "The numbers 220 and 284 are amicable.\n"
          ]
        }
      ]
    },
    {
      "cell_type": "markdown",
      "source": [
        "**6.Find the cumulative sum of a list where the i-th element is the sum of the first i+1 elements from the original list.**"
      ],
      "metadata": {
        "id": "A69yGyWwsKin"
      }
    },
    {
      "cell_type": "code",
      "source": [
        "a=input(\"Enter the list elements separated by spaces: \")\n",
        "a=[int(x) for x in a.split()]\n",
        "ans=[]\n",
        "total=0\n",
        "for i in a:\n",
        "  total+=i\n",
        "  ans.append(total)\n",
        "print(\"Original List:\", a)\n",
        "print(\"Cumulative Sum List:\", ans)"
      ],
      "metadata": {
        "colab": {
          "base_uri": "https://localhost:8080/"
        },
        "id": "uSwRSV3mjP-D",
        "outputId": "d8efbbbe-6c5a-4f48-8206-957dd68ed4c8"
      },
      "execution_count": null,
      "outputs": [
        {
          "output_type": "stream",
          "name": "stdout",
          "text": [
            "Enter the list elements separated by spaces: 1 2 3 4 5 \n",
            "Original List: [1, 2, 3, 4, 5]\n",
            "Cumulative Sum List: [1, 3, 6, 10, 15]\n"
          ]
        }
      ]
    },
    {
      "cell_type": "markdown",
      "source": [
        "**7.Given a list of sorted numbers and a variable K, where K is also a number, write a\n",
        "Python program using binary search to find the number in the list which is closest to the given number K**"
      ],
      "metadata": {
        "id": "J5r0Raz_sZj3"
      }
    },
    {
      "cell_type": "code",
      "source": [
        "n = input(\"Enter the sorted list of numbers separated by spaces: \")\n",
        "sorted_list = [int(x) for x in n.split()]\n",
        "k = int(input(\"Enter the number K: \"))\n",
        "low = 0\n",
        "high = len(sorted_list) - 1\n",
        "ans = None\n",
        "while low <= high:\n",
        "    mid = (low + high) // 2\n",
        "    if sorted_list[mid] == k:\n",
        "        ans = sorted_list[mid]\n",
        "        break\n",
        "    elif sorted_list[mid] < k:\n",
        "        low = mid + 1\n",
        "    else:\n",
        "        high = mid - 1\n",
        "    if ans is None or abs(sorted_list[mid] - k) < abs(ans - k):\n",
        "        ans = sorted_list[mid]\n",
        "print(\"Number in the list closest to\", k, \"is:\", ans)"
      ],
      "metadata": {
        "colab": {
          "base_uri": "https://localhost:8080/"
        },
        "id": "sa78YAbPkEyt",
        "outputId": "21791b04-2472-4e6d-eff0-defa0bd346da"
      },
      "execution_count": null,
      "outputs": [
        {
          "output_type": "stream",
          "name": "stdout",
          "text": [
            "Enter the sorted list of numbers separated by spaces: 2 5 7 8 12\n",
            "Enter the number K: 9\n",
            "Number in the list closest to 9 is: 8\n"
          ]
        }
      ]
    },
    {
      "cell_type": "markdown",
      "source": [
        "**8.Given a list of tuples, write a Python program to remove all the duplicated tuples from\n",
        "the given list using the concept of set.**"
      ],
      "metadata": {
        "id": "0TAQ8SvQsmCW"
      }
    },
    {
      "cell_type": "code",
      "source": [
        "t_list=[(1, 2), (3, 4), (1, 2), (5, 6), (3, 4)]\n",
        "t_set=set(t_list)\n",
        "t_list1=list(t_set)\n",
        "print(\"Original list of tuples:\",t_list)\n",
        "print(\"List of unique tuples:\", t_list1)"
      ],
      "metadata": {
        "colab": {
          "base_uri": "https://localhost:8080/"
        },
        "id": "pREbx5HUlYBo",
        "outputId": "d332975a-1beb-4d3e-8b9d-b34aa110644e"
      },
      "execution_count": null,
      "outputs": [
        {
          "output_type": "stream",
          "name": "stdout",
          "text": [
            "Original list of tuples: [(1, 2), (3, 4), (1, 2), (5, 6), (3, 4)]\n",
            "List of unique tuples: [(1, 2), (3, 4), (5, 6)]\n"
          ]
        }
      ]
    },
    {
      "cell_type": "markdown",
      "source": [
        "**9.Given an unsorted list of some elements (may or may not be integers), Find the\n",
        "frequency of each distinct element in the list using a dictionary.**"
      ],
      "metadata": {
        "id": "2xwu5llBsxVm"
      }
    },
    {
      "cell_type": "code",
      "source": [
        "def frequency(a):\n",
        "    f_dict = {}\n",
        "    for i in a:\n",
        "        if i in f_dict:\n",
        "            f_dict[i]+=1\n",
        "        else:\n",
        "            f_dict[i]=1\n",
        "    return f_dict\n",
        "unsorted_list = [1, 2, 1, 2, 1, 'a','b','a','a']\n",
        "f=frequency(unsorted_list)\n",
        "print(\"Frequency of each distinct element is:\")\n",
        "for i,freq in f.items():\n",
        "    print(i, \":\", freq)"
      ],
      "metadata": {
        "colab": {
          "base_uri": "https://localhost:8080/"
        },
        "id": "XqCsBIjjl5xS",
        "outputId": "ac7148c1-9b02-4254-c50a-900daf8f2ebf"
      },
      "execution_count": null,
      "outputs": [
        {
          "output_type": "stream",
          "name": "stdout",
          "text": [
            "Frequency of each distinct element is:\n",
            "1 : 3\n",
            "2 : 2\n",
            "a : 3\n",
            "b : 1\n"
          ]
        }
      ]
    },
    {
      "cell_type": "markdown",
      "source": [
        "**10.Given two words, check whether they are anagrams using dictionary.**"
      ],
      "metadata": {
        "id": "SdFfUUQGs2HH"
      }
    },
    {
      "cell_type": "code",
      "source": [
        "def anagram(a,b):\n",
        "  a=a.lower()\n",
        "  b=b.lower()\n",
        "  if len(a)!=len(b):\n",
        "    return False\n",
        "  f1={}\n",
        "  f2={}\n",
        "  for char in a:\n",
        "        if char in f1:\n",
        "            f1[char]+=1\n",
        "        else:\n",
        "            f1[char]=1\n",
        "  for char in b:\n",
        "        if char in f2:\n",
        "            f2[char]+=1\n",
        "        else:\n",
        "            f2[char]=1\n",
        "  return f1==f2\n",
        "a=input(\"Enter the first word: \")\n",
        "b=input(\"Enter the second word: \")\n",
        "if anagram(a,b):\n",
        "  print(f\"{a} and {b} are anagrams.\")\n",
        "else:\n",
        "    print(f\"{a} and {b} are not anagrams.\")"
      ],
      "metadata": {
        "colab": {
          "base_uri": "https://localhost:8080/"
        },
        "id": "8ebgH3s-me1P",
        "outputId": "43968f1a-fc09-4d5c-8c5f-f4ca1ddee385"
      },
      "execution_count": null,
      "outputs": [
        {
          "output_type": "stream",
          "name": "stdout",
          "text": [
            "Enter the first word: moon\n",
            "Enter the second word: mono\n",
            "moon and mono are anagrams.\n"
          ]
        }
      ]
    },
    {
      "cell_type": "markdown",
      "source": [
        "**11.Find common elements in three sorted lists using sets.**"
      ],
      "metadata": {
        "id": "YV8cSCWds5Eo"
      }
    },
    {
      "cell_type": "code",
      "source": [
        "common = lambda a, b, c: set(a) & set(b) & set(c)\n",
        "list1 = [1, 2, 3, 4, 5, 8]\n",
        "list2 = [2, 4, 6, 8, 10]\n",
        "list3 = [3, 4, 7, 8, 9]\n",
        "ans = common(list1, list2, list3)\n",
        "print(\"Common elements in the three lists:\", ans)"
      ],
      "metadata": {
        "colab": {
          "base_uri": "https://localhost:8080/"
        },
        "id": "9CFifGWonqLC",
        "outputId": "d6657ec4-1aa0-4b50-a357-8db4708ee94d"
      },
      "execution_count": null,
      "outputs": [
        {
          "output_type": "stream",
          "name": "stdout",
          "text": [
            "Common elements in the three lists: {8, 4}\n"
          ]
        }
      ]
    },
    {
      "cell_type": "markdown",
      "source": [
        "**12.Find Symmetric Pairs in dictionary using loop.**"
      ],
      "metadata": {
        "id": "wBv8Edf9u2Z5"
      }
    },
    {
      "cell_type": "code",
      "source": [
        "def symmetric_pair(d):\n",
        "    ans=[]\n",
        "    for key,value in d.items():\n",
        "        if value in d and d[value]==key:\n",
        "            ans.append((key, value))\n",
        "    return ans\n",
        "d={'a':'b', 'b':'a', 'c':'d', 'd':'e', 'e':'d'}\n",
        "ans=symmetric_pair(d)\n",
        "print(\"Symmetric pairs in the dictionary:\",ans)"
      ],
      "metadata": {
        "colab": {
          "base_uri": "https://localhost:8080/"
        },
        "id": "ArBNd-Q2u3K3",
        "outputId": "69f69631-4709-4dca-b541-f7cc09ce4503"
      },
      "execution_count": null,
      "outputs": [
        {
          "output_type": "stream",
          "name": "stdout",
          "text": [
            "Symmetric pairs in the dictionary: [('a', 'b'), ('b', 'a'), ('d', 'e'), ('e', 'd')]\n"
          ]
        }
      ]
    },
    {
      "cell_type": "markdown",
      "source": [
        "**13.Find the most Occurrence cahracter in a string**"
      ],
      "metadata": {
        "id": "U1k7GCzMnWQs"
      }
    },
    {
      "cell_type": "code",
      "source": [
        "def occurrence(s):\n",
        "  max_char=''\n",
        "  max_count=0\n",
        "  for char in s:\n",
        "    freq=s.count(char)\n",
        "    if freq>max_count:\n",
        "      max_char=char\n",
        "      max_count=freq\n",
        "  return max_char,max_count\n",
        "s=input(\"Enter a string: \")\n",
        "ans_char,ans_freq=occurrence(s)\n",
        "print(\"Most common character:\",ans_char,\"And Number of occurrences:\",ans_freq)"
      ],
      "metadata": {
        "colab": {
          "base_uri": "https://localhost:8080/"
        },
        "id": "9_VpvaaPoKek",
        "outputId": "940229ae-a02a-46b5-e5d9-3af41f0c1528"
      },
      "execution_count": null,
      "outputs": [
        {
          "output_type": "stream",
          "name": "stdout",
          "text": [
            "Enter a string: mississipi\n",
            "Most common character: i And Number of occurrences: 4\n"
          ]
        }
      ]
    },
    {
      "cell_type": "markdown",
      "source": [
        "**14.Find Symmetric Pairs in dictionary using loop.**"
      ],
      "metadata": {
        "id": "QJ6RE7vvtMyw"
      }
    },
    {
      "cell_type": "code",
      "source": [
        "def symmetric_pair(d):\n",
        "    ans=[]\n",
        "    for key,value in d.items():\n",
        "        if value in d and d[value]==key:\n",
        "            ans.append((key, value))\n",
        "    return ans\n",
        "d={'a':'b', 'b':'a', 'c':'d', 'd':'e', 'e':'d'}\n",
        "ans=symmetric_pair(d)\n",
        "print(\"Symmetric pairs in the dictionary:\",ans)"
      ],
      "metadata": {
        "colab": {
          "base_uri": "https://localhost:8080/"
        },
        "id": "Dx0LguiDpenf",
        "outputId": "995817f2-7872-451a-c732-605be41ca829"
      },
      "execution_count": null,
      "outputs": [
        {
          "output_type": "stream",
          "name": "stdout",
          "text": [
            "Symmetric pairs in the dictionary: [('a', 'b'), ('b', 'a'), ('d', 'e'), ('e', 'd')]\n"
          ]
        }
      ]
    }
  ]
}