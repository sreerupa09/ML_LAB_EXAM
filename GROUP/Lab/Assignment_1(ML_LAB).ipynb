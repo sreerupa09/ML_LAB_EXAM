{
  "nbformat": 4,
  "nbformat_minor": 0,
  "metadata": {
    "colab": {
      "provenance": []
    },
    "kernelspec": {
      "name": "python3",
      "display_name": "Python 3"
    },
    "language_info": {
      "name": "python"
    }
  },
  "cells": [
    {
      "cell_type": "code",
      "execution_count": null,
      "metadata": {
        "colab": {
          "base_uri": "https://localhost:8080/"
        },
        "id": "xJKJtlADYLVl",
        "outputId": "39bf3637-517a-468a-c7ef-db89bbedfaea"
      },
      "outputs": [
        {
          "output_type": "stream",
          "name": "stdout",
          "text": [
            "Enter value: 523\n",
            "Reverse of 523 is 325\n"
          ]
        }
      ],
      "source": [
        "a=int(input('Enter value: '))\n",
        "s=0\n",
        "m=a\n",
        "while a>0:\n",
        "  s=int(s*10+(a%10))\n",
        "  a=int(a/10)\n",
        "print(\"Reverse of\",m,\"is\",s)"
      ]
    },
    {
      "cell_type": "code",
      "source": [
        "def largest_permutation(number):\n",
        "    digits=[]\n",
        "    n=number\n",
        "    while n>0:\n",
        "        digit=n%10\n",
        "        digits=[digit]+digits\n",
        "        n//= 10\n",
        "\n",
        "    for i in range(len(digits)):\n",
        "        for j in range(len(digits)-1):\n",
        "            if digits[j]<digits[j+1]:\n",
        "                digits[j],digits[j+1]=digits[j+1],digits[j]\n",
        "\n",
        "    largest_number = 0\n",
        "    for digit in digits:\n",
        "        largest_number=largest_number* 10+digit\n",
        "\n",
        "    return largest_number\n",
        "\n",
        "number=int(input('Enter value: '))\n",
        "print(\"Largest permutation of\", number, \"is:\", largest_permutation(number))\n"
      ],
      "metadata": {
        "colab": {
          "base_uri": "https://localhost:8080/"
        },
        "id": "ZLTx-ZDwYmnr",
        "outputId": "0cc8e4a7-8da5-4b11-e617-4999552eb658"
      },
      "execution_count": null,
      "outputs": [
        {
          "output_type": "stream",
          "name": "stdout",
          "text": [
            "Enter value: 324\n",
            "Largest permutation of 324 is: 432\n"
          ]
        }
      ]
    },
    {
      "cell_type": "code",
      "source": [
        "a=int(input('Enter value: '))\n",
        "s=0\n",
        "c=0\n",
        "while a>0:\n",
        "  r=int(a%2)\n",
        "  if r==1:\n",
        "    c=c+1\n",
        "  a=int(a/2)\n",
        "print(c)"
      ],
      "metadata": {
        "colab": {
          "base_uri": "https://localhost:8080/"
        },
        "id": "A6wvVfC3ZzNZ",
        "outputId": "f2aed394-bac8-44d4-c518-1bc460b6df8d"
      },
      "execution_count": null,
      "outputs": [
        {
          "output_type": "stream",
          "name": "stdout",
          "text": [
            "Enter value: 3\n",
            "2\n"
          ]
        }
      ]
    },
    {
      "cell_type": "code",
      "source": [
        "rows=int(input('Enter range: '))\n",
        "for i in range(1,rows+1):\n",
        "  for _ in range(rows-i):\n",
        "    print(\" \", end=\"\")\n",
        "  for _ in range(i):\n",
        "    print(\"*\", end=\"\")\n",
        "  print()\n"
      ],
      "metadata": {
        "colab": {
          "base_uri": "https://localhost:8080/"
        },
        "id": "girVRp-baUX_",
        "outputId": "cc4e5ff2-9c09-47bb-bc09-6a27081cb960"
      },
      "execution_count": null,
      "outputs": [
        {
          "output_type": "stream",
          "name": "stdout",
          "text": [
            "Enter range: 5\n",
            "    *\n",
            "   **\n",
            "  ***\n",
            " ****\n",
            "*****\n"
          ]
        }
      ]
    },
    {
      "cell_type": "code",
      "source": [
        "rows=int(input('Enter range: '))\n",
        "for i in range(1,rows+1):\n",
        "  for _ in range(rows-i):\n",
        "    print(\" \", end=\"\")\n",
        "  for _ in range(i):\n",
        "    print(\"* \", end=\"\")\n",
        "  print()"
      ],
      "metadata": {
        "colab": {
          "base_uri": "https://localhost:8080/"
        },
        "id": "iYgO-ddZbNab",
        "outputId": "21bf73af-5566-47df-ec4a-7d92015d13e5"
      },
      "execution_count": null,
      "outputs": [
        {
          "output_type": "stream",
          "name": "stdout",
          "text": [
            "Enter range: 5\n",
            "    * \n",
            "   * * \n",
            "  * * * \n",
            " * * * * \n",
            "* * * * * \n"
          ]
        }
      ]
    },
    {
      "cell_type": "code",
      "source": [
        "rows=int(input('Enter range: '))\n",
        "for i in range(1,rows+1):\n",
        "  for _ in range(i):\n",
        "    print(chr(64+i), end=\"\")\n",
        "  print()"
      ],
      "metadata": {
        "colab": {
          "base_uri": "https://localhost:8080/"
        },
        "id": "iHYrJp46bktj",
        "outputId": "548858df-87b3-4db2-a5d3-d96a73170b9e"
      },
      "execution_count": null,
      "outputs": [
        {
          "output_type": "stream",
          "name": "stdout",
          "text": [
            "Enter range: 5\n",
            "A\n",
            "BB\n",
            "CCC\n",
            "DDDD\n",
            "EEEEE\n"
          ]
        }
      ]
    },
    {
      "cell_type": "code",
      "source": [
        "def d_sum(n):\n",
        "    divisors_sum = 0\n",
        "    for i in range(1,n):\n",
        "        if n%i==0:\n",
        "            divisors_sum+=i\n",
        "    return divisors_sum\n",
        "\n",
        "def amicable(num1, num2):\n",
        "    sum1=d_sum(num1)\n",
        "    sum2=d_sum(num2)\n",
        "    return sum1==num2 and sum2==num1\n",
        "\n",
        "a=int(input(\"Enter the first number: \"))\n",
        "b=int(input(\"Enter the second number: \"))\n",
        "\n",
        "if amicable(a, b):\n",
        "    print(\"The numbers\", a, \"and\", b, \"are amicable.\")\n",
        "else:\n",
        "    print(\"The numbers\", a, \"and\", b, \"are not amicable.\")\n"
      ],
      "metadata": {
        "colab": {
          "base_uri": "https://localhost:8080/"
        },
        "id": "5LpSwCPiibvD",
        "outputId": "3725d06c-30e0-41a8-cf9b-63c01bd3b518"
      },
      "execution_count": null,
      "outputs": [
        {
          "output_type": "stream",
          "name": "stdout",
          "text": [
            "Enter the first number: 220\n",
            "Enter the second number: 284\n",
            "The numbers 220 and 284 are amicable.\n"
          ]
        }
      ]
    },
    {
      "cell_type": "code",
      "source": [
        "def cumulative_sum(a):\n",
        "    ans=[]\n",
        "    total=0\n",
        "    for i in a:\n",
        "        total+=i\n",
        "        ans.append(total)\n",
        "    return ans\n",
        "\n",
        "a=input(\"Enter the list elements separated by spaces: \")\n",
        "a=[int(x) for x in a.split()]\n",
        "result = cumulative_sum(a)\n",
        "print(\"Original List:\", a)\n",
        "print(\"Cumulative Sum List:\", result)\n"
      ],
      "metadata": {
        "colab": {
          "base_uri": "https://localhost:8080/"
        },
        "id": "uSwRSV3mjP-D",
        "outputId": "9726ab73-5b43-4730-fdc5-29db0f67aafb"
      },
      "execution_count": null,
      "outputs": [
        {
          "output_type": "stream",
          "name": "stdout",
          "text": [
            "Enter the list elements separated by spaces: 1 2 3 4 5\n",
            "Original List: [1, 2, 3, 4, 5]\n",
            "Cumulative Sum List: [1, 3, 6, 10, 15]\n"
          ]
        }
      ]
    },
    {
      "cell_type": "code",
      "source": [
        "def bin_search(n, k):\n",
        "    low=0\n",
        "    high=len(n)-1\n",
        "    ans=None\n",
        "    while low<=high:\n",
        "        mid=(low+high)//2\n",
        "        if n[mid]==k:\n",
        "            return n[mid]\n",
        "        elif n[mid]<k:\n",
        "            low=mid+1\n",
        "        else:\n",
        "            high=mid-1\n",
        "\n",
        "        if ans is None or abs(n[mid]-k) < abs(ans-k):\n",
        "            ans=n[mid]\n",
        "    return ans\n",
        "\n",
        "a=input(\"Enter the sorted list of numbers separated by spaces: \")\n",
        "sorted_list=[int(x) for x in a.split()]\n",
        "k=int(input(\"Enter the number K: \"))\n",
        "ans=bin_search(sorted_list, k)\n",
        "print(\"Number in the list closest to\", k, \"is:\",ans)\n"
      ],
      "metadata": {
        "colab": {
          "base_uri": "https://localhost:8080/"
        },
        "id": "sa78YAbPkEyt",
        "outputId": "cb4f565f-0f4b-41c2-a33a-fa1740a01bb4"
      },
      "execution_count": null,
      "outputs": [
        {
          "output_type": "stream",
          "name": "stdout",
          "text": [
            "Enter the sorted list of numbers separated by spaces: 2 5 7 8 12 \n",
            "Enter the number K: 9\n",
            "Number in the list closest to 9 is: 8\n"
          ]
        }
      ]
    },
    {
      "cell_type": "code",
      "source": [
        "def remove_duplicates(t_list):\n",
        "    t_set=set(t_list)\n",
        "    t_list=list(t_set)\n",
        "    return t_list\n",
        "\n",
        "t_list=[(1, 2), (3, 4), (1, 2), (5, 6), (3, 4)]\n",
        "unique=remove_duplicates(t_list)\n",
        "print(\"Original list of tuples:\",t_list)\n",
        "print(\"List of unique tuples:\", unique)\n"
      ],
      "metadata": {
        "colab": {
          "base_uri": "https://localhost:8080/"
        },
        "id": "pREbx5HUlYBo",
        "outputId": "2da0c191-50f2-4438-c092-83f88e07a7e4"
      },
      "execution_count": null,
      "outputs": [
        {
          "output_type": "stream",
          "name": "stdout",
          "text": [
            "Original list of tuples: [(1, 2), (3, 4), (1, 2), (5, 6), (3, 4)]\n",
            "List of unique tuples: [(1, 2), (3, 4), (5, 6)]\n"
          ]
        }
      ]
    },
    {
      "cell_type": "code",
      "source": [
        "def frequency(a):\n",
        "    f_dict = {}\n",
        "    for i in a:\n",
        "        if i in f_dict:\n",
        "            f_dict[i]+=1\n",
        "        else:\n",
        "            f_dict[i]=1\n",
        "    return f_dict\n",
        "\n",
        "unsorted_list = [1, 2, 3, 4, 1, 2, 1, 3, 'a', 'b', 'a', 'c', 'a','d',5]\n",
        "f=frequency(unsorted_list)\n",
        "print(\"Frequency of each distinct element is:\")\n",
        "for i,freq in f.items():\n",
        "    print(i, \":\", freq)\n"
      ],
      "metadata": {
        "colab": {
          "base_uri": "https://localhost:8080/"
        },
        "id": "XqCsBIjjl5xS",
        "outputId": "93a04e93-130a-4ba4-e1f3-f32ecd5da558"
      },
      "execution_count": null,
      "outputs": [
        {
          "output_type": "stream",
          "name": "stdout",
          "text": [
            "Frequency of each distinct element is:\n",
            "1 : 3\n",
            "2 : 2\n",
            "3 : 2\n",
            "4 : 1\n",
            "a : 3\n",
            "b : 1\n",
            "c : 1\n",
            "d : 1\n",
            "5 : 1\n"
          ]
        }
      ]
    },
    {
      "cell_type": "code",
      "source": [
        "def anagram(a,b):\n",
        "  a=a.lower()\n",
        "  b=b.lower()\n",
        "  if len(a)!=len(b):\n",
        "    return False\n",
        "  f1={}\n",
        "  f2={}\n",
        "  for char in a:\n",
        "        if char in f1:\n",
        "            f1[char]+=1\n",
        "        else:\n",
        "            f1[char]=1\n",
        "  for char in b:\n",
        "        if char in f2:\n",
        "            f2[char]+=1\n",
        "        else:\n",
        "            f2[char]=1\n",
        "  return f1==f2\n",
        "\n",
        "a=input(\"Enter the first word: \")\n",
        "b=input(\"Enter the second word: \")\n",
        "if anagram(a,b):\n",
        "  print(f\"{a} and {b} are anagrams.\")\n",
        "else:\n",
        "    print(f\"{a} and {b} are not anagrams.\")"
      ],
      "metadata": {
        "colab": {
          "base_uri": "https://localhost:8080/"
        },
        "id": "8ebgH3s-me1P",
        "outputId": "43968f1a-fc09-4d5c-8c5f-f4ca1ddee385"
      },
      "execution_count": null,
      "outputs": [
        {
          "output_type": "stream",
          "name": "stdout",
          "text": [
            "Enter the first word: moon\n",
            "Enter the second word: mono\n",
            "moon and mono are anagrams.\n"
          ]
        }
      ]
    },
    {
      "cell_type": "code",
      "source": [
        "def common(a,b,c):\n",
        "  set1=set(a)\n",
        "  set2=set(b)\n",
        "  set3=set(c)\n",
        "  ans=set1.intersection(set2,set3)\n",
        "  return ans\n",
        "list1=[1,2,3,4,5,8]\n",
        "list2=[2,4,6,8,10]\n",
        "list3=[3,4,7,8,9]\n",
        "ans=common(list1, list2, list3)\n",
        "print(\"Common elements in the three lists:\",ans)"
      ],
      "metadata": {
        "colab": {
          "base_uri": "https://localhost:8080/"
        },
        "id": "9CFifGWonqLC",
        "outputId": "d6657ec4-1aa0-4b50-a357-8db4708ee94d"
      },
      "execution_count": null,
      "outputs": [
        {
          "output_type": "stream",
          "name": "stdout",
          "text": [
            "Common elements in the three lists: {8, 4}\n"
          ]
        }
      ]
    },
    {
      "cell_type": "code",
      "source": [
        "def occurrence(s):\n",
        "  max_char=''\n",
        "  max_count=0\n",
        "  for char in s:\n",
        "    freq=s.count(char)\n",
        "    if freq>max_count:\n",
        "      max_char=char\n",
        "      max_count=freq\n",
        "  return max_char,max_count\n",
        "\n",
        "s=input(\"Enter a string: \")\n",
        "ans_char,ans_freq=occurrence(s)\n",
        "print(\"Most common character:\",ans_char)\n",
        "print(\"Number of occurrences:\",ans_freq)"
      ],
      "metadata": {
        "colab": {
          "base_uri": "https://localhost:8080/"
        },
        "id": "9_VpvaaPoKek",
        "outputId": "ec286d9b-0e62-4ede-9650-0d663ef38b5b"
      },
      "execution_count": null,
      "outputs": [
        {
          "output_type": "stream",
          "name": "stdout",
          "text": [
            "Enter a string: mississipi\n",
            "Most common character: i\n",
            "Number of occurrences: 4\n"
          ]
        }
      ]
    },
    {
      "cell_type": "code",
      "source": [
        "def symmetric_pair(d):\n",
        "    ans=[]\n",
        "    for key,value in d.items():\n",
        "        if value in d and d[value]==key:\n",
        "            ans.append((key, value))\n",
        "    return ans\n",
        "d={'a':'b', 'b':'a', 'c':'d', 'd':'e', 'e':'d'}\n",
        "ans=symmetric_pair(d)\n",
        "print(\"Symmetric pairs in the dictionary:\",ans)"
      ],
      "metadata": {
        "colab": {
          "base_uri": "https://localhost:8080/"
        },
        "id": "Dx0LguiDpenf",
        "outputId": "995817f2-7872-451a-c732-605be41ca829"
      },
      "execution_count": null,
      "outputs": [
        {
          "output_type": "stream",
          "name": "stdout",
          "text": [
            "Symmetric pairs in the dictionary: [('a', 'b'), ('b', 'a'), ('d', 'e'), ('e', 'd')]\n"
          ]
        }
      ]
    },
    {
      "cell_type": "code",
      "source": [
        "def common_prefix(s):\n",
        "  if not s:\n",
        "    return \"\"\n",
        "  minlen=min(len(x) for x in s)\n",
        "  for i in range(minlen):\n",
        "    if len(set(j[i] for j in s)) > 1:\n",
        "            return s[0][:i]\n",
        "  return s[0][:minlen]\n",
        "\n",
        "s_list = [\"flower\", \"flow\", \"flight\"]\n",
        "prefix=common_prefix(s_list)\n",
        "print(\"Common prefix:\", prefix)"
      ],
      "metadata": {
        "colab": {
          "base_uri": "https://localhost:8080/"
        },
        "id": "1YNpdJ6up6A9",
        "outputId": "15cc36d1-91de-42b1-db42-11ce9577802f"
      },
      "execution_count": null,
      "outputs": [
        {
          "output_type": "stream",
          "name": "stdout",
          "text": [
            "Common prefix: fl\n"
          ]
        }
      ]
    },
    {
      "cell_type": "code",
      "source": [
        "def is_palindrome(s):\n",
        "    if len(s)<=1:\n",
        "        return True\n",
        "    if s[0]==s[-1]:\n",
        "        return is_palindrome(s[1:-1])\n",
        "    else:\n",
        "        return False\n",
        "\n",
        "string=input(\"Enter a string: \")\n",
        "if is_palindrome(string):\n",
        "    print(string,\"is a palindrome.\")\n",
        "else:\n",
        "    print(string,\"is not a palindrome.\")\n"
      ],
      "metadata": {
        "colab": {
          "base_uri": "https://localhost:8080/"
        },
        "id": "p4lXwdMCqrnk",
        "outputId": "a2a46f5c-c838-4f26-bd69-2ecb7afc4b4c"
      },
      "execution_count": null,
      "outputs": [
        {
          "output_type": "stream",
          "name": "stdout",
          "text": [
            "Enter a string: madam\n",
            "madam is a palindrome.\n"
          ]
        }
      ]
    },
    {
      "cell_type": "code",
      "source": [
        "def gcd(a, b):\n",
        "    if b == 0:\n",
        "        return a\n",
        "    return gcd(b, a % b)\n",
        "\n",
        "a=int(input(\"Enter the first number: \"))\n",
        "b=int(input(\"Enter the second number: \"))\n",
        "ans=gcd(a,b)\n",
        "print(\"GCD of\",a, \"and\",b, \"is:\",ans)"
      ],
      "metadata": {
        "colab": {
          "base_uri": "https://localhost:8080/"
        },
        "id": "4nCfZYppq2_l",
        "outputId": "da26861e-69a7-4668-aaf6-810bcf81150e"
      },
      "execution_count": null,
      "outputs": [
        {
          "output_type": "stream",
          "name": "stdout",
          "text": [
            "Enter the first number: 7 \n",
            "Enter the second number: 23\n",
            "GCD of 7 and 23 is: 1\n"
          ]
        }
      ]
    },
    {
      "cell_type": "code",
      "source": [
        "file=open(\"sample_data/name.txt\", \"r\")\n",
        "word_count=0\n",
        "for line in file:\n",
        "    for word in line.split():\n",
        "        word_count+=1\n",
        "file.close()\n",
        "print(\"Number of words in the text file:\",word_count)\n"
      ],
      "metadata": {
        "colab": {
          "base_uri": "https://localhost:8080/"
        },
        "id": "Wwh9yPy7rRG3",
        "outputId": "0e73da23-b331-4f54-8c76-e1c2cfa0cb4e"
      },
      "execution_count": null,
      "outputs": [
        {
          "output_type": "stream",
          "name": "stdout",
          "text": [
            "Number of words in the text file: 6\n"
          ]
        }
      ]
    },
    {
      "cell_type": "code",
      "source": [
        "file=open(\"sample_data/num.txt\",\"r\")\n",
        "numbers=[]\n",
        "for line in file:\n",
        "    for word in line.split():\n",
        "        if word.isdigit():\n",
        "            numbers.append(int(word))\n",
        "file.close()\n",
        "print(\"Numbers present in the text file:\", numbers)\n"
      ],
      "metadata": {
        "colab": {
          "base_uri": "https://localhost:8080/"
        },
        "id": "eAZokuEGtwDt",
        "outputId": "d1816cfa-cb03-4904-f1aa-ba0aabb3d259"
      },
      "execution_count": null,
      "outputs": [
        {
          "output_type": "stream",
          "name": "stdout",
          "text": [
            "Numbers present in the text file: [1, 2, 3, 4, 5, 6]\n"
          ]
        }
      ]
    },
    {
      "cell_type": "code",
      "source": [
        "# import openpyxl\n",
        "# file=open(\"sample_data/word.txt\", \"r\")\n",
        "# word_to_count=input(\"Enter the word to count: \")\n",
        "# count=0\n",
        "# with open(file, 'r') as f:\n",
        "#     content = f.read()\n",
        "#     words = content.split()\n",
        "#     count = words.count(word_to_count)\n",
        "# print(\"Occurrences of '{}' in the text file: {}\".format(word_to_count, count))\n"
      ],
      "metadata": {
        "colab": {
          "base_uri": "https://localhost:8080/",
          "height": 228
        },
        "id": "zu49csg6ujTN",
        "outputId": "1f70eb7b-ff42-41ac-af97-0212953ad23b"
      },
      "execution_count": null,
      "outputs": [
        {
          "name": "stdout",
          "output_type": "stream",
          "text": [
            "Enter the word to count: she\n"
          ]
        },
        {
          "output_type": "error",
          "ename": "TypeError",
          "evalue": "expected str, bytes or os.PathLike object, not TextIOWrapper",
          "traceback": [
            "\u001b[0;31m---------------------------------------------------------------------------\u001b[0m",
            "\u001b[0;31mTypeError\u001b[0m                                 Traceback (most recent call last)",
            "\u001b[0;32m<ipython-input-48-d1e04f8adfd8>\u001b[0m in \u001b[0;36m<cell line: 5>\u001b[0;34m()\u001b[0m\n\u001b[1;32m      3\u001b[0m \u001b[0mword_to_count\u001b[0m\u001b[0;34m=\u001b[0m\u001b[0minput\u001b[0m\u001b[0;34m(\u001b[0m\u001b[0;34m\"Enter the word to count: \"\u001b[0m\u001b[0;34m)\u001b[0m\u001b[0;34m\u001b[0m\u001b[0;34m\u001b[0m\u001b[0m\n\u001b[1;32m      4\u001b[0m \u001b[0mcount\u001b[0m\u001b[0;34m=\u001b[0m\u001b[0;36m0\u001b[0m\u001b[0;34m\u001b[0m\u001b[0;34m\u001b[0m\u001b[0m\n\u001b[0;32m----> 5\u001b[0;31m \u001b[0;32mwith\u001b[0m \u001b[0mopen\u001b[0m\u001b[0;34m(\u001b[0m\u001b[0mfile\u001b[0m\u001b[0;34m,\u001b[0m \u001b[0;34m'r'\u001b[0m\u001b[0;34m)\u001b[0m \u001b[0;32mas\u001b[0m \u001b[0mf\u001b[0m\u001b[0;34m:\u001b[0m\u001b[0;34m\u001b[0m\u001b[0;34m\u001b[0m\u001b[0m\n\u001b[0m\u001b[1;32m      6\u001b[0m     \u001b[0mcontent\u001b[0m \u001b[0;34m=\u001b[0m \u001b[0mf\u001b[0m\u001b[0;34m.\u001b[0m\u001b[0mread\u001b[0m\u001b[0;34m(\u001b[0m\u001b[0;34m)\u001b[0m\u001b[0;34m\u001b[0m\u001b[0;34m\u001b[0m\u001b[0m\n\u001b[1;32m      7\u001b[0m     \u001b[0mwords\u001b[0m \u001b[0;34m=\u001b[0m \u001b[0mcontent\u001b[0m\u001b[0;34m.\u001b[0m\u001b[0msplit\u001b[0m\u001b[0;34m(\u001b[0m\u001b[0;34m)\u001b[0m\u001b[0;34m\u001b[0m\u001b[0;34m\u001b[0m\u001b[0m\n",
            "\u001b[0;31mTypeError\u001b[0m: expected str, bytes or os.PathLike object, not TextIOWrapper"
          ]
        }
      ]
    }
  ]
}